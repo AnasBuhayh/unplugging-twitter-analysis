{
 "cells": [
  {
   "cell_type": "markdown",
   "id": "f264c646",
   "metadata": {},
   "source": [
    "# Introduction"
   ]
  },
  {
   "cell_type": "markdown",
   "id": "12bd3258",
   "metadata": {},
   "source": [
    "Many of us have reconsidered the time we spend on social media, and others have even decided to take a small break. People have breaks from social media for various reasons, such as preparing for a major life event or concerns about their social media consumption. In this study, we analyzed Twitter data to understand how people frame their breaks.\n",
    "\n",
    "Some of the terms used to describe a time off social media have various origins. Sabbath and fasting have religious roots. Others such as detox is commonly used in the health context. And unplugging and disconnecting are usually used when we’re talking about electronics. It is interesting to note that most of the words describing taking a break from social media indicate that being connected is the normal state."
   ]
  },
  {
   "cell_type": "markdown",
   "id": "94426ad7",
   "metadata": {},
   "source": [
    "# Data Collection"
   ]
  },
  {
   "cell_type": "markdown",
   "id": "f46bb832",
   "metadata": {},
   "source": [
    "We started our Twitter data collection using 40 hashtags related to disconnecting from social media. Our first dataset showed that average users don’t frequently use hashtags. Therefore, we used the terms without the hashtag symbol.The dataset also revealed more frequent terms that were added to the finalized search words list, such as, Mental health and scroll.\n",
    "\n",
    "Our final dataset consists of 3565 English tweets using 20 search terms that were defined with the preliminary analysis.\n",
    "we used the following hashtags to collect that data.\n",
    "\n",
    "Unplugging | Digital detox | Mental health | Social media fast | Social media sabbath | Digital detox | Screen time | Time off | Break from social media | Social media addiction | Phone addiction | Disconnect social media | Social media break | Social media attachment  | Attention economy | Digital detoxing | Social media wellness | Social media mindfulness | Digital minimalism | Social media scroll\n",
    "\n",
    "The data is collected using the file `tweepy-function.ipynb` which is included in this repo. credits to [\n",
    "Griffin Leow](https://python.plainenglish.io/scraping-tweets-with-tweepy-python-59413046e788)"
   ]
  },
  {
   "cell_type": "markdown",
   "id": "bffc7e49",
   "metadata": {},
   "source": [
    "# Data Preperation"
   ]
  },
  {
   "cell_type": "code",
   "execution_count": 1,
   "id": "8c800d7e",
   "metadata": {},
   "outputs": [],
   "source": [
    "import pandas as pd\n",
    "import numpy as np"
   ]
  },
  {
   "cell_type": "code",
   "execution_count": 2,
   "id": "6b6895bd",
   "metadata": {},
   "outputs": [],
   "source": [
    "tweets = pd.read_csv(\"data/tweets_20210422.csv\")\n",
    "\n",
    "tweets = tweets.drop_duplicates()\n",
    "tweets = tweets.reset_index(drop=True)\n",
    "\n",
    "tweets = tweets[\"tweet\"]"
   ]
  },
  {
   "cell_type": "code",
   "execution_count": 3,
   "id": "c46695f5",
   "metadata": {},
   "outputs": [
    {
     "data": {
      "text/plain": [
       "0    @supermintendo Unplugging yourself from social...\n",
       "1    Politics are a chronic medical conditions that...\n",
       "2    On the topic of unplugging from social media, ...\n",
       "3    Feel like unplugging 🔌 from social media today...\n",
       "4    We are all collectively tired.\\n\\nGrieving our...\n",
       "Name: tweet, dtype: object"
      ]
     },
     "execution_count": 3,
     "metadata": {},
     "output_type": "execute_result"
    }
   ],
   "source": [
    "tweets.head()"
   ]
  },
  {
   "cell_type": "code",
   "execution_count": 4,
   "id": "17c4e859",
   "metadata": {},
   "outputs": [
    {
     "name": "stdout",
     "output_type": "stream",
     "text": [
      "Tweets count: 3565\n"
     ]
    }
   ],
   "source": [
    "print(\"Tweets count: \" + str(len(tweets)))"
   ]
  },
  {
   "cell_type": "markdown",
   "id": "44c05f4d",
   "metadata": {},
   "source": [
    "# EDA\n",
    "\n",
    "Checking the fequency of the search terms in the dataset"
   ]
  },
  {
   "cell_type": "code",
   "execution_count": 5,
   "id": "b0d2e661",
   "metadata": {},
   "outputs": [],
   "source": [
    "key_words = {\n",
    "    \"unplugging social media\" : len(tweets[tweets.str.contains('(?=.*unplugging)(?=.*social media)')]),\n",
    "    \"digital detox social media\" : len(tweets[tweets.str.contains('(?=.*digital)(?=.*detox)(?=.*social media)')]),\n",
    "    \"mental health social media\" : len(tweets[tweets.str.contains('(?=.*mental)(?=.*health)(?=.*social media)')]),\n",
    "    \"social media fast\" : len(tweets[tweets.str.contains('(?=.*social media)(?=.*fast)')]),\n",
    "    \"social media_sabbath\" : len(tweets[tweets.str.contains('(?=.*social media)(?=.*sabbath)')]),\n",
    "    \"digital detox\" : len(tweets[tweets.str.contains('(?=.*digital detox)')]),\n",
    "    \"screen time social media\" : len(tweets[tweets.str.contains('(?=.*screen time)(?=.*social media)')]),\n",
    "    \"time off social media\" : len(tweets[tweets.str.contains('(?=.*time off)(?=.*social media)')]),\n",
    "    \"break from social media\" : len(tweets[tweets.str.contains('(?=.*break from)(?=.*social media)')]),\n",
    "    \"social media addiction\" : len(tweets[tweets.str.contains('(?=.*social media)(?=.*addiction)')]),\n",
    "    \"phone addiction\" : len(tweets[tweets.str.contains('(?=.*phone)(?=.*addiction)')]),\n",
    "    \"disconnect social media\" : len(tweets[tweets.str.contains('(?=.*disconnect)(?=.*social media)')]),\n",
    "    \"social media break\" : len(tweets[tweets.str.contains('(?=.*social media)(?=.*break)')]),\n",
    "    \"social media attachment\" : len(tweets[tweets.str.contains('(?=.*social media)(?=.*attachment)')]),\n",
    "    \"attention economy\" : len(tweets[tweets.str.contains('(?=.*attention)(?=.*economy)')]),\n",
    "    \"digital detoxing\" : len(tweets[tweets.str.contains('(?=.*digital)(?=.*detoxing)')]),\n",
    "    \"social media wellness\" : len(tweets[tweets.str.contains('(?=.*social media)(?=.*wellness)')]),\n",
    "    \"social media mindfulness\" : len(tweets[tweets.str.contains('(?=.*social media)(?=.*mindfulness)')]),\n",
    "    \"digital minimalism social media\" : len(tweets[tweets.str.contains('(?=.*digtial)(?=.*minimalism)(?=.*social media)')]),\n",
    "    \"social media scroll\" : len(tweets[tweets.str.contains('(?=.*social media)(?=.*scroll)')])\n",
    "}\n",
    "key_words = dict(sorted(key_words.items(), key=lambda item: item[1], reverse=True))"
   ]
  },
  {
   "cell_type": "code",
   "execution_count": 6,
   "id": "3ef3616c",
   "metadata": {},
   "outputs": [
    {
     "data": {
      "image/png": "[encoded data removed]",
      "text/plain": [
       "<Figure size 432x288 with 1 Axes>"
      ]
     },
     "metadata": {
      "needs_background": "light"
     },
     "output_type": "display_data"
    }
   ],
   "source": [
    "import seaborn as sns\n",
    "my_df = pd.DataFrame(key_words.items())\n",
    "ax = sns.barplot(x=1, y=0, data=my_df, palette=\"Blues_d\")\n",
    "ax.set(xlabel='Tweet Count', ylabel='Search Term')\n",
    "sns.despine()"
   ]
  },
  {
   "cell_type": "code",
   "execution_count": 7,
   "id": "5e4fecfb",
   "metadata": {},
   "outputs": [
    {
     "data": {
      "text/plain": [
       "{'social media break': 431,\n",
       " 'social media scroll': 402,\n",
       " 'social media addiction': 376,\n",
       " 'phone addiction': 330,\n",
       " 'mental health social media': 303,\n",
       " 'break from social media': 242,\n",
       " 'disconnect social media': 195,\n",
       " 'digital detox': 181,\n",
       " 'social media fast': 128,\n",
       " 'time off social media': 77,\n",
       " 'screen time social media': 71,\n",
       " 'social media wellness': 57,\n",
       " 'social media attachment': 21,\n",
       " 'unplugging social media': 20,\n",
       " 'digital detox social media': 17,\n",
       " 'social media mindfulness': 14,\n",
       " 'attention economy': 12,\n",
       " 'digital detoxing': 12,\n",
       " 'social media_sabbath': 1,\n",
       " 'digital minimalism social media': 0}"
      ]
     },
     "execution_count": 7,
     "metadata": {},
     "output_type": "execute_result"
    }
   ],
   "source": [
    "dict(sorted(key_words.items(), key=lambda item: item[1], reverse=True))"
   ]
  },
  {
   "cell_type": "markdown",
   "id": "97d1712d",
   "metadata": {},
   "source": [
    "# Data Analysis: Summarization"
   ]
  },
  {
   "cell_type": "markdown",
   "id": "61a1811c",
   "metadata": {},
   "source": [
    "We used summarization to get more representative tweets. In our study, representative tweets are the tweets that talk about a person’s relationship with social media. We summarized the tweets using TF-IDF, which stands for “Term Frequency — Inverse Document Frequency.” This is a method that calculates the importance of one single document in a set of documents by measuring the importance of words in that document. The documents in this scenario are the tweets. The importance of a word is calculated by weighting its occurrence.\n",
    "\n",
    "We applied this approach to retrieve the 500 hundred tweets with the highest TF-IDF scores to get more representative tweets. Please know that the number 500 is arbitrary.\n"
   ]
  },
  {
   "cell_type": "code",
   "execution_count": 8,
   "id": "6722e7ed",
   "metadata": {},
   "outputs": [
    {
     "name": "stderr",
     "output_type": "stream",
     "text": [
      "[nltk_data] Downloading package punkt to\n",
      "[nltk_data]     C:\\Users\\bhiha\\AppData\\Roaming\\nltk_data...\n",
      "[nltk_data]   Package punkt is already up-to-date!\n",
      "[nltk_data] Downloading package stopwords to\n",
      "[nltk_data]     C:\\Users\\bhiha\\AppData\\Roaming\\nltk_data...\n",
      "[nltk_data]   Package stopwords is already up-to-date!\n"
     ]
    }
   ],
   "source": [
    "from nltk.tokenize import sent_tokenize, word_tokenize\n",
    "from nltk.probability import FreqDist\n",
    "from nltk.corpus import stopwords\n",
    "from heapq import nlargest \n",
    "from string import punctuation\n",
    "import collections\n",
    "import re\n",
    "\n",
    "import nltk\n",
    "nltk.download('punkt')\n",
    "nltk.download('stopwords')\n",
    "\n",
    "\n",
    "def remove_urls(text):\n",
    "    return re.sub(r'http\\S+','', text)\n",
    "\n",
    "def summarize(tweets, n):\n",
    "    \n",
    "    tweets = tweets.apply(remove_urls)\n",
    "    text = ' '.join(tweets)\n",
    "    bag_of_words = word_tokenize(text.lower())\n",
    "    _stopwords = set(stopwords.words('english') + list(punctuation))\n",
    "\n",
    "    bag_of_words = [word for word in bag_of_words if word not in _stopwords] #stripping stopwords\n",
    "    freq = FreqDist(bag_of_words) #all the non-stopwords\n",
    "    ranking = collections.defaultdict(int) #to avoid KeyError\n",
    "\n",
    "    for i, sent in enumerate(tweets): # loop through the reviews we have\n",
    "        for w in word_tokenize(sent.lower()): # loop through the words in the reviews\n",
    "            if w in freq: # if the word in our frquenct object\n",
    "                ranking[i] += freq[w] # add the rank if the word to the review\n",
    "\n",
    "    tweets_idx = nlargest(n, ranking, key=ranking.get) # get the n reviews with the highest ranking\n",
    "    return [tweets[j] for j in sorted(tweets_idx)]"
   ]
  },
  {
   "cell_type": "code",
   "execution_count": 9,
   "id": "5f1745b1",
   "metadata": {},
   "outputs": [],
   "source": [
    "lst = summarize(tweets, 500)\n",
    "tweets = pd.Series(lst)"
   ]
  },
  {
   "cell_type": "code",
   "execution_count": 10,
   "id": "a61046b6",
   "metadata": {},
   "outputs": [
    {
     "data": {
      "text/plain": [
       "57     @JanineMachin @IWFhotline Social media isn’t t...\n",
       "377    Delete, Unfollow, unfriend, block and disconne...\n",
       "333    @azizafatale I’m telling you. It’s that addict...\n",
       "74     @toxr_u @DSandyToes6 it’s still very mentally ...\n",
       "11     How is everyone functioning? My heart breaks e...\n",
       "dtype: object"
      ]
     },
     "execution_count": 10,
     "metadata": {},
     "output_type": "execute_result"
    }
   ],
   "source": [
    "tweets.sample(5)"
   ]
  },
  {
   "cell_type": "markdown",
   "id": "5669cbbe",
   "metadata": {},
   "source": [
    "Before using summarization, we manually labeled a random sample of tweets by going through all the tweets and labeling them with relevant in case the tweet is talking about someone’s relationship with social media and irrelevant in case it was talking about any other topic.\n",
    "\n",
    "The percentage of the relevant tweets in the random sample was around 54%.\n",
    "After summarizing the tweets and labeling a random sample, this number increased to almost 63%.\n",
    "\n",
    "Summarization returned tweets that are more relevant to social media. This approach increased the relevance by 8.62%, and it also returned significantly fewer abstract tweets.\n"
   ]
  },
  {
   "cell_type": "markdown",
   "id": "f640265a",
   "metadata": {},
   "source": [
    "# Data Analysis: n-grams"
   ]
  },
  {
   "cell_type": "markdown",
   "id": "d1517bfc",
   "metadata": {},
   "source": [
    "Bigrams are two words that are frequently used together—for example, social media. Bigrams help to identify words that are frequently occurring together."
   ]
  },
  {
   "cell_type": "code",
   "execution_count": 11,
   "id": "9ca955f5",
   "metadata": {},
   "outputs": [
    {
     "name": "stderr",
     "output_type": "stream",
     "text": [
      "[nltk_data] Downloading package averaged_perceptron_tagger to\n",
      "[nltk_data]     C:\\Users\\bhiha\\AppData\\Roaming\\nltk_data...\n",
      "[nltk_data]   Package averaged_perceptron_tagger is already up-to-\n",
      "[nltk_data]       date!\n"
     ]
    }
   ],
   "source": [
    "nltk.download('averaged_perceptron_tagger')\n",
    "import unicodedata\n",
    "\n",
    "def basic_clean(text):\n",
    "    wnl = nltk.stem.WordNetLemmatizer()\n",
    "    ADDITIONAL_STOPWORDS = [\"nnrun\",\"nntrust\",\"im\",\"social\",\"media\"]\n",
    "    stopwords = nltk.corpus.stopwords.words('english') + ADDITIONAL_STOPWORDS\n",
    "    text = (unicodedata.normalize('NFKD', text)\n",
    "        .encode('ascii', 'ignore')\n",
    "        .decode('utf-8', 'ignore')\n",
    "        .lower())\n",
    "    words = re.sub(r'[^\\w\\s]', '', text).split()\n",
    "    text=' '.join(words).lower()\n",
    "    tokens = nltk.word_tokenize(text)\n",
    "    tags = nltk.pos_tag(tokens)\n",
    "    \n",
    "    return [word for word in words if word not in stopwords]"
   ]
  },
  {
   "cell_type": "code",
   "execution_count": 12,
   "id": "c82fa4e6",
   "metadata": {},
   "outputs": [],
   "source": [
    "words = basic_clean(''.join(str(tweets.tolist())))"
   ]
  },
  {
   "cell_type": "code",
   "execution_count": 13,
   "id": "c888b41a",
   "metadata": {},
   "outputs": [],
   "source": [
    "bigrams_series = (pd.Series(nltk.ngrams(words, 2)).value_counts())[:20]"
   ]
  },
  {
   "cell_type": "code",
   "execution_count": 14,
   "id": "d67850d0",
   "metadata": {},
   "outputs": [
    {
     "data": {
      "image/png": "[encoded data removed]",
      "text/plain": [
       "<Figure size 432x288 with 1 Axes>"
      ]
     },
     "metadata": {
      "needs_background": "light"
     },
     "output_type": "display_data"
    }
   ],
   "source": [
    "my_df = pd.DataFrame(bigrams_series.items())\n",
    "ax = sns.barplot(x=1, y=0, data=my_df, palette=\"Blues_d\")\n",
    "ax.set(xlabel='Tweet Count', ylabel='Bi-gram')\n",
    "ax.grid(False)\n",
    "sns.despine()"
   ]
  },
  {
   "cell_type": "markdown",
   "id": "82dee6e8",
   "metadata": {},
   "source": [
    "The chart shows the most frequent n-grams and indicates that some terms are significantly more frequent than others. It is not a surprise to find social media at the top of the list since it's mentioned in most key terms."
   ]
  },
  {
   "cell_type": "markdown",
   "id": "9dd8e300",
   "metadata": {},
   "source": [
    "# Data Analysis: Word Cloud"
   ]
  },
  {
   "cell_type": "markdown",
   "id": "d4d89a8a",
   "metadata": {},
   "source": [
    "Our following approach is word clouds. We use word clouds to show the most frequent words in the dataset.\n",
    "Word clouds disregard stop words such as pronouns and conjunctions.\n",
    "Looking at this word cloud, we can see that the bigger words are mostly related to health, such as mental and addiction. And others related to duration, such as time and break.\n",
    "This method provides a good visualization of the most frequent terms, and it can give a good idea about the recurring topics in the dataset."
   ]
  },
  {
   "cell_type": "code",
   "execution_count": 15,
   "id": "c659a1eb",
   "metadata": {},
   "outputs": [],
   "source": [
    "from gensim.corpora import Dictionary\n",
    "from nltk.probability import FreqDist\n",
    "\n",
    "word_freq = FreqDist(words)\n",
    "\n",
    "# retrieve word and count from FreqDist tuples\n",
    "most_common_count = [x[1] for x in word_freq.most_common(30)]\n",
    "most_common_word = [x[0] for x in word_freq.most_common(30)]\n",
    "\n",
    "# create dictionary mapping of word count\n",
    "top_30_dictionary = dict(zip(most_common_word, most_common_count))"
   ]
  },
  {
   "cell_type": "code",
   "execution_count": 16,
   "id": "89edc14d",
   "metadata": {},
   "outputs": [],
   "source": [
    "#create mask for the word cloud\n",
    "from PIL import Image\n",
    "mask = np.array(Image.open(\"media/twitter-logo.png\"))\n",
    "\n",
    "def transform_format(val):\n",
    "    if val == 0:\n",
    "        return 255\n",
    "    else:\n",
    "        return val\n",
    "\n",
    "# transform your mask into a new one that will work with the function:\n",
    "transformed_mask = np.ndarray((mask.shape[0],mask.shape[1]), np.int32)\n",
    "\n",
    "for i in range(len(mask)):\n",
    "    transformed_mask[i] = list(map(transform_format, mask[i]))"
   ]
  },
  {
   "cell_type": "code",
   "execution_count": 17,
   "id": "7183adf3",
   "metadata": {},
   "outputs": [
    {
     "data": {
      "image/png": "[encoded data removed]",
      "text/plain": [
       "<Figure size 864x576 with 1 Axes>"
      ]
     },
     "metadata": {
      "needs_background": "light"
     },
     "output_type": "display_data"
    }
   ],
   "source": [
    "from wordcloud import WordCloud\n",
    "import matplotlib.pyplot as plt\n",
    "\n",
    "# create word cloud of top 30 words\n",
    "wordcloud = WordCloud(background_color = 'white', mask=transformed_mask).generate_from_frequencies(top_30_dictionary)\n",
    "\n",
    "plt.figure(figsize=(12, 8))\n",
    "plt.imshow(wordcloud, interpolation='bilinear')\n",
    "plt.axis(\"off\")\n",
    "plt.tight_layout(pad=0)\n",
    "plt.savefig('top_30_cloud.png')\n",
    "\n",
    "plt.show()"
   ]
  },
  {
   "cell_type": "markdown",
   "id": "de1381d6",
   "metadata": {},
   "source": [
    "Looking at this, it is safe to say that people talk a lot about health and time in this dataset.\n"
   ]
  },
  {
   "cell_type": "markdown",
   "id": "80acc8d6",
   "metadata": {},
   "source": [
    "# Data Analysis: Network Graph"
   ]
  },
  {
   "cell_type": "markdown",
   "id": "0c37af97",
   "metadata": {},
   "source": [
    "The following approach is the network graph. This approach creates a connection between a large set of bigrams. We used network graphs to understand the relationship between words."
   ]
  },
  {
   "cell_type": "code",
   "execution_count": 18,
   "id": "d63a6eb1",
   "metadata": {},
   "outputs": [],
   "source": [
    "# create dictionary of bigrams and their counts\n",
    "terms_bigram = (pd.Series(nltk.ngrams(words, 2)).value_counts()).to_frame().reset_index()[:50]\n",
    "d = terms_bigram.set_index('index').T.to_dict('records')"
   ]
  },
  {
   "cell_type": "code",
   "execution_count": 19,
   "id": "ec4bd462",
   "metadata": {},
   "outputs": [],
   "source": [
    "# sources for implementing network graphs\n",
    "# https://github.com/Jcharis/Social-Network-Analysis/blob/master/Python%20NetworkX%20%20Tutorial/Social%20Network%20Analysis%20with%20Networkx%20in%20Python%20-%20All%20In%20One.ipynb\n",
    "# https://www.earthdatascience.org/courses/use-data-open-source-python/intro-to-apis/calculate-tweet-word-bigrams/\n",
    "# https://towardsdatascience.com/tutorial-network-visualization-basics-with-networkx-and-plotly-and-a-little-nlp-57c9bbb55bb9\n",
    "\n",
    "import networkx as nx\n",
    "import seaborn as sns\n",
    "\n",
    "import warnings\n",
    "warnings.filterwarnings(\"ignore\")\n",
    "\n",
    "sns.set(font_scale=1.5)\n",
    "sns.set_style(\"whitegrid\")\n",
    "\n",
    "# create network plot \n",
    "G = nx.Graph()\n",
    "\n",
    "# create connections between nodes\n",
    "for k, v in d[0].items():\n",
    "    G.add_edge(k[0], k[1], weight=(v))"
   ]
  },
  {
   "cell_type": "code",
   "execution_count": 20,
   "id": "a6eed2e1",
   "metadata": {},
   "outputs": [
    {
     "data": {
      "text/html": [
       "\n",
       "        <iframe\n",
       "            width=\"500px\"\n",
       "            height=\"500px\"\n",
       "            src=\"example.html\"\n",
       "            frameborder=\"0\"\n",
       "            allowfullscreen\n",
       "        ></iframe>\n",
       "        "
      ],
      "text/plain": [
       "<IPython.lib.display.IFrame at 0x1cf1bc2ab80>"
      ]
     },
     "execution_count": 20,
     "metadata": {},
     "output_type": "execute_result"
    }
   ],
   "source": [
    "from pyvis.network import Network\n",
    "from pyvis import network as net\n",
    "\n",
    "nt = Network('1000px', '1000px', bgcolor='white', font_color='black')\n",
    "nt = net.Network(notebook=True)\n",
    "# nt.show_buttons(filter_=['physics'])\n",
    "\n",
    "# populates the nodes and edges data structures\n",
    "nt.from_nx(G)\n",
    "nt.show('example.html')"
   ]
  },
  {
   "cell_type": "markdown",
   "id": "5fb16ca1",
   "metadata": {},
   "source": [
    "We can see that the three words with the most connections are (social, media, and time). Since the term social media is used in most of our search terms, there is no doubt that it will have the most connections. However, having the word “time” with this many bonds indicates that many Twitter users use time-related associations when talking about a social media break.\n"
   ]
  },
  {
   "cell_type": "markdown",
   "id": "10cce303",
   "metadata": {},
   "source": [
    "# Data Analysis: Sentiment Analysis"
   ]
  },
  {
   "cell_type": "markdown",
   "id": "a24b4a76",
   "metadata": {},
   "source": [
    "Our last approach is sentiment analysis.\n",
    "Sentiment analysis is a natural language processing technique that helps determine the sentence polarity—meaning (positive, negative, or neutral). We used sentiment analysis to develop a holistic view of the polarity of the tweets.\n",
    "We used a model that is trained on product reviews. The model predicts the sentiment of the review as a number of stars between 1 and 5.\n"
   ]
  },
  {
   "cell_type": "code",
   "execution_count": 11,
   "id": "90e1be40",
   "metadata": {},
   "outputs": [],
   "source": [
    "from transformers import AutoTokenizer, AutoModelForSequenceClassification\n",
    "import torch\n",
    "import re"
   ]
  },
  {
   "cell_type": "code",
   "execution_count": 12,
   "id": "33a2b60a",
   "metadata": {},
   "outputs": [],
   "source": [
    "# https://huggingface.co/nlptown/bert-base-multilingual-uncased-sentiment\n",
    "tokenizer = AutoTokenizer.from_pretrained('nlptown/bert-base-multilingual-uncased-sentiment')\n",
    "\n",
    "model = AutoModelForSequenceClassification.from_pretrained('nlptown/bert-base-multilingual-uncased-sentiment')"
   ]
  },
  {
   "cell_type": "code",
   "execution_count": 13,
   "id": "5ab29e08",
   "metadata": {},
   "outputs": [],
   "source": [
    "import emoji\n",
    "\n",
    "def cleaner(tweet):\n",
    "    tweet = re.sub(\"@[A-Za-z0-9]+\",\"\",tweet) \n",
    "    tweet = re.sub(r\"(?:\\@|http?\\://|https?\\://|www)\\S+\", \"\", tweet) \n",
    "    tweet = \" \".join(tweet.split())\n",
    "    tweet = ''.join(c for c in tweet if c not in emoji.UNICODE_EMOJI)\n",
    "    tweet = tweet.replace(\"#\", \"\").replace(\"_\", \" \")\n",
    "    return tweet"
   ]
  },
  {
   "cell_type": "code",
   "execution_count": 14,
   "id": "d186680b",
   "metadata": {},
   "outputs": [],
   "source": [
    "tweets = tweets.map(lambda x: cleaner(x))"
   ]
  },
  {
   "cell_type": "code",
   "execution_count": 15,
   "id": "fd33dfba",
   "metadata": {},
   "outputs": [],
   "source": [
    "# convert to data frame to add the sentement value\n",
    "df = tweets.to_frame(\"text\")"
   ]
  },
  {
   "cell_type": "code",
   "execution_count": 16,
   "id": "66a7364a",
   "metadata": {},
   "outputs": [],
   "source": [
    "def sentiment_score(review):\n",
    "    tokens = tokenizer.encode(review, return_tensors='pt')\n",
    "    result = model(tokens)\n",
    "    return int(torch.argmax(result.logits))+1"
   ]
  },
  {
   "cell_type": "code",
   "execution_count": 17,
   "id": "d1945260",
   "metadata": {},
   "outputs": [],
   "source": [
    "df['sentiment'] = df['text'].apply(lambda x: sentiment_score(x))"
   ]
  },
  {
   "cell_type": "code",
   "execution_count": 18,
   "id": "9ef6fa71",
   "metadata": {},
   "outputs": [
    {
     "data": {
      "text/html": [
       "<div>\n",
       "<style scoped>\n",
       "    .dataframe tbody tr th:only-of-type {\n",
       "        vertical-align: middle;\n",
       "    }\n",
       "\n",
       "    .dataframe tbody tr th {\n",
       "        vertical-align: top;\n",
       "    }\n",
       "\n",
       "    .dataframe thead th {\n",
       "        text-align: right;\n",
       "    }\n",
       "</style>\n",
       "<table border=\"1\" class=\"dataframe\">\n",
       "  <thead>\n",
       "    <tr style=\"text-align: right;\">\n",
       "      <th></th>\n",
       "      <th>text</th>\n",
       "      <th>sentiment</th>\n",
       "    </tr>\n",
       "  </thead>\n",
       "  <tbody>\n",
       "    <tr>\n",
       "      <th>0</th>\n",
       "      <td>Unplugging yourself from social media is very ...</td>\n",
       "      <td>5</td>\n",
       "    </tr>\n",
       "    <tr>\n",
       "      <th>1</th>\n",
       "      <td>Social Media Detox Step 14: Take a few moments...</td>\n",
       "      <td>4</td>\n",
       "    </tr>\n",
       "    <tr>\n",
       "      <th>2</th>\n",
       "      <td>I can’t ingest social media like I used to, I ...</td>\n",
       "      <td>2</td>\n",
       "    </tr>\n",
       "    <tr>\n",
       "      <th>3</th>\n",
       "      <td>I'm sure we're all guilty of succumbing to too...</td>\n",
       "      <td>1</td>\n",
       "    </tr>\n",
       "    <tr>\n",
       "      <th>4</th>\n",
       "      <td>87 I guess too much of twitter(social media)....</td>\n",
       "      <td>1</td>\n",
       "    </tr>\n",
       "  </tbody>\n",
       "</table>\n",
       "</div>"
      ],
      "text/plain": [
       "                                                text  sentiment\n",
       "0  Unplugging yourself from social media is very ...          5\n",
       "1  Social Media Detox Step 14: Take a few moments...          4\n",
       "2  I can’t ingest social media like I used to, I ...          2\n",
       "3  I'm sure we're all guilty of succumbing to too...          1\n",
       "4   87 I guess too much of twitter(social media)....          1"
      ]
     },
     "execution_count": 18,
     "metadata": {},
     "output_type": "execute_result"
    }
   ],
   "source": [
    "df.head()"
   ]
  },
  {
   "cell_type": "code",
   "execution_count": 19,
   "id": "8f27abf1",
   "metadata": {},
   "outputs": [
    {
     "data": {
      "text/html": [
       "<div>\n",
       "<style scoped>\n",
       "    .dataframe tbody tr th:only-of-type {\n",
       "        vertical-align: middle;\n",
       "    }\n",
       "\n",
       "    .dataframe tbody tr th {\n",
       "        vertical-align: top;\n",
       "    }\n",
       "\n",
       "    .dataframe thead th {\n",
       "        text-align: right;\n",
       "    }\n",
       "</style>\n",
       "<table border=\"1\" class=\"dataframe\">\n",
       "  <thead>\n",
       "    <tr style=\"text-align: right;\">\n",
       "      <th></th>\n",
       "      <th>rating</th>\n",
       "      <th>tweet-count</th>\n",
       "    </tr>\n",
       "  </thead>\n",
       "  <tbody>\n",
       "    <tr>\n",
       "      <th>0</th>\n",
       "      <td>1</td>\n",
       "      <td>196</td>\n",
       "    </tr>\n",
       "    <tr>\n",
       "      <th>1</th>\n",
       "      <td>2</td>\n",
       "      <td>101</td>\n",
       "    </tr>\n",
       "    <tr>\n",
       "      <th>2</th>\n",
       "      <td>5</td>\n",
       "      <td>80</td>\n",
       "    </tr>\n",
       "    <tr>\n",
       "      <th>3</th>\n",
       "      <td>4</td>\n",
       "      <td>67</td>\n",
       "    </tr>\n",
       "    <tr>\n",
       "      <th>4</th>\n",
       "      <td>3</td>\n",
       "      <td>56</td>\n",
       "    </tr>\n",
       "  </tbody>\n",
       "</table>\n",
       "</div>"
      ],
      "text/plain": [
       "   rating  tweet-count\n",
       "0       1          196\n",
       "1       2          101\n",
       "2       5           80\n",
       "3       4           67\n",
       "4       3           56"
      ]
     },
     "execution_count": 19,
     "metadata": {},
     "output_type": "execute_result"
    }
   ],
   "source": [
    "sentiment_graph = df['sentiment'].value_counts().to_frame().reset_index()\n",
    "sentiment_graph.columns = ['rating', 'tweet-count']\n",
    "sentiment_graph"
   ]
  },
  {
   "cell_type": "code",
   "execution_count": 20,
   "id": "67fa6c25",
   "metadata": {},
   "outputs": [
    {
     "data": {
      "image/png": "[encoded data removed]",
      "text/plain": [
       "<Figure size 432x288 with 1 Axes>"
      ]
     },
     "metadata": {
      "needs_background": "light"
     },
     "output_type": "display_data"
    }
   ],
   "source": [
    "import seaborn as sns\n",
    "ax = sns.barplot(x='rating', y='tweet-count', data=sentiment_graph, palette=\"Blues_d\")\n",
    "ax.set(xlabel='Star Rating', ylabel='Tweet Count')\n",
    "ax.grid(False)\n",
    "sns.despine()"
   ]
  },
  {
   "cell_type": "markdown",
   "id": "2596c850",
   "metadata": {},
   "source": [
    "Plotting the star values for the 500 tweets, we can see that the negative tweets; indicated by one star are the most common. Meaning that in this context, people usually phrase their relationship with social media in negative terms."
   ]
  },
  {
   "cell_type": "markdown",
   "id": "9f41bdbe",
   "metadata": {},
   "source": [
    "# Conclusion\n",
    "\n",
    "Most of the tweets indicate that taking some time off social media is a good thing.\n",
    "Twitter users are most concerned about their time and health when they are discussing their time away from social media.\n",
    "Terms such as \"unplugging, disconnection, fast\" are not frequently used in the context of taking a break.\n",
    "Most people use the terms \"break and time off,\" which indicate a quick action and plan to come back from social media.\n",
    "Twitter uses use generic language when they're discussing their connection. For example, they say it's bad for mental health but rarely mention how their social media time makes them feel.\n"
   ]
  },
  {
   "cell_type": "code",
   "execution_count": null,
   "id": "9a0e0c59",
   "metadata": {},
   "outputs": [],
   "source": []
  }
 ],
 "metadata": {
  "kernelspec": {
   "display_name": "Python 3 (ipykernel)",
   "language": "python",
   "name": "python3"
  },
  "language_info": {
   "codemirror_mode": {
    "name": "ipython",
    "version": 3
   },
   "file_extension": ".py",
   "mimetype": "text/x-python",
   "name": "python",
   "nbconvert_exporter": "python",
   "pygments_lexer": "ipython3",
   "version": "3.9.7"
  }
 },
 "nbformat": 4,
 "nbformat_minor": 5
}
