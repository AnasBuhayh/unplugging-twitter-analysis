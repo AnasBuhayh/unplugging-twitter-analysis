{
 "cells": [
  {
   "cell_type": "code",
   "execution_count": 1,
   "metadata": {},
   "outputs": [],
   "source": [
    "import os, glob\n",
    "import pandas as pd\n",
    "import pathlib"
   ]
  },
  {
   "cell_type": "code",
   "execution_count": 2,
   "metadata": {},
   "outputs": [],
   "source": [
    "CURRENT_PATH = os.getcwd()"
   ]
  },
  {
   "cell_type": "code",
   "execution_count": 14,
   "metadata": {},
   "outputs": [],
   "source": [
    "path = CURRENT_PATH + \"/data/\"\n",
    "\n",
    "all_files = glob.glob(os.path.join(path, \"*.csv\"))\n",
    "#20210520_101114_Research_collection_noTweets=2000.csv\n",
    "all_csv = (pd.read_csv(f, sep=',') for f in all_files)\n",
    "\n",
    "df_merged = pd.concat(all_csv, ignore_index=True)"
   ]
  },
  {
   "cell_type": "code",
   "execution_count": 15,
   "metadata": {},
   "outputs": [
    {
     "data": {
      "text/plain": [
       "10359"
      ]
     },
     "execution_count": 15,
     "metadata": {},
     "output_type": "execute_result"
    }
   ],
   "source": [
    "len(df_merged)"
   ]
  },
  {
   "cell_type": "code",
   "execution_count": 16,
   "metadata": {},
   "outputs": [
    {
     "name": "stdout",
     "output_type": "stream",
     "text": [
      "3812\n"
     ]
    }
   ],
   "source": [
    "df_cleaned = df_merged.drop_duplicates(subset=['text'])\n",
    "df_cleaned = df_cleaned.reset_index(drop=True)\n",
    "print(len(df_cleaned))"
   ]
  },
  {
   "cell_type": "code",
   "execution_count": 17,
   "metadata": {},
   "outputs": [
    {
     "data": {
      "text/html": [
       "<div>\n",
       "<style scoped>\n",
       "    .dataframe tbody tr th:only-of-type {\n",
       "        vertical-align: middle;\n",
       "    }\n",
       "\n",
       "    .dataframe tbody tr th {\n",
       "        vertical-align: top;\n",
       "    }\n",
       "\n",
       "    .dataframe thead th {\n",
       "        text-align: right;\n",
       "    }\n",
       "</style>\n",
       "<table border=\"1\" class=\"dataframe\">\n",
       "  <thead>\n",
       "    <tr style=\"text-align: right;\">\n",
       "      <th></th>\n",
       "      <th>tweet_id</th>\n",
       "      <th>username</th>\n",
       "      <th>acctdesc</th>\n",
       "      <th>location</th>\n",
       "      <th>following</th>\n",
       "      <th>followers</th>\n",
       "      <th>totaltweets</th>\n",
       "      <th>usercreatedts</th>\n",
       "      <th>tweetcreatedts</th>\n",
       "      <th>retweetcount</th>\n",
       "      <th>text</th>\n",
       "      <th>hashtags</th>\n",
       "    </tr>\n",
       "  </thead>\n",
       "  <tbody>\n",
       "    <tr>\n",
       "      <th>0</th>\n",
       "      <td>1385138840143228935</td>\n",
       "      <td>WriteFenix</td>\n",
       "      <td>I enjoy enthusiastic midnight walks.\\nWas a ch...</td>\n",
       "      <td>NaN</td>\n",
       "      <td>14</td>\n",
       "      <td>6</td>\n",
       "      <td>207</td>\n",
       "      <td>2021-01-07 03:31:56</td>\n",
       "      <td>2021-04-22 07:50:08</td>\n",
       "      <td>0</td>\n",
       "      <td>@supermintendo Unplugging yourself from social...</td>\n",
       "      <td>[]</td>\n",
       "    </tr>\n",
       "    <tr>\n",
       "      <th>1</th>\n",
       "      <td>1384975457989238787</td>\n",
       "      <td>AggieDad2015</td>\n",
       "      <td>Red Ass Aggie Dad. #CruzCrew Conservative. \\n\\...</td>\n",
       "      <td>Republic of Texas</td>\n",
       "      <td>1790</td>\n",
       "      <td>2093</td>\n",
       "      <td>33177</td>\n",
       "      <td>2010-10-12 18:00:03</td>\n",
       "      <td>2021-04-21 21:00:55</td>\n",
       "      <td>3</td>\n",
       "      <td>Politics are a chronic medical conditions that...</td>\n",
       "      <td>[]</td>\n",
       "    </tr>\n",
       "    <tr>\n",
       "      <th>2</th>\n",
       "      <td>1384954661367697410</td>\n",
       "      <td>Uva_Be</td>\n",
       "      <td>Eclectic reader, life \"focus\" divided #climate...</td>\n",
       "      <td>Washington State, USA</td>\n",
       "      <td>3216</td>\n",
       "      <td>3329</td>\n",
       "      <td>28808</td>\n",
       "      <td>2009-04-05 00:18:29</td>\n",
       "      <td>2021-04-21 19:38:17</td>\n",
       "      <td>0</td>\n",
       "      <td>On the topic of unplugging from social media, ...</td>\n",
       "      <td>[{'text': 'notifications', 'indices': [137, 15...</td>\n",
       "    </tr>\n",
       "    <tr>\n",
       "      <th>3</th>\n",
       "      <td>1384868076252897285</td>\n",
       "      <td>VAL_u_mil</td>\n",
       "      <td>I mostly tweet about Reality TV, Animals and A...</td>\n",
       "      <td>Houston, Texas</td>\n",
       "      <td>121</td>\n",
       "      <td>117</td>\n",
       "      <td>6304</td>\n",
       "      <td>2012-04-24 01:53:18</td>\n",
       "      <td>2021-04-21 13:54:13</td>\n",
       "      <td>0</td>\n",
       "      <td>Feel like unplugging 🔌 from social media today...</td>\n",
       "      <td>[]</td>\n",
       "    </tr>\n",
       "    <tr>\n",
       "      <th>4</th>\n",
       "      <td>1384810467353313282</td>\n",
       "      <td>Fromgrief2grind</td>\n",
       "      <td>Facilitating hard &amp; honest conversations about...</td>\n",
       "      <td>United States</td>\n",
       "      <td>3008</td>\n",
       "      <td>1657</td>\n",
       "      <td>5589</td>\n",
       "      <td>2016-08-13 08:35:59</td>\n",
       "      <td>2021-04-21 10:05:18</td>\n",
       "      <td>0</td>\n",
       "      <td>We are all collectively tired.\\n\\nGrieving our...</td>\n",
       "      <td>[]</td>\n",
       "    </tr>\n",
       "  </tbody>\n",
       "</table>\n",
       "</div>"
      ],
      "text/plain": [
       "              tweet_id         username  \\\n",
       "0  1385138840143228935       WriteFenix   \n",
       "1  1384975457989238787     AggieDad2015   \n",
       "2  1384954661367697410           Uva_Be   \n",
       "3  1384868076252897285        VAL_u_mil   \n",
       "4  1384810467353313282  Fromgrief2grind   \n",
       "\n",
       "                                            acctdesc               location  \\\n",
       "0  I enjoy enthusiastic midnight walks.\\nWas a ch...                    NaN   \n",
       "1  Red Ass Aggie Dad. #CruzCrew Conservative. \\n\\...      Republic of Texas   \n",
       "2  Eclectic reader, life \"focus\" divided #climate...  Washington State, USA   \n",
       "3  I mostly tweet about Reality TV, Animals and A...         Houston, Texas   \n",
       "4  Facilitating hard & honest conversations about...          United States   \n",
       "\n",
       "   following  followers  totaltweets        usercreatedts  \\\n",
       "0         14          6          207  2021-01-07 03:31:56   \n",
       "1       1790       2093        33177  2010-10-12 18:00:03   \n",
       "2       3216       3329        28808  2009-04-05 00:18:29   \n",
       "3        121        117         6304  2012-04-24 01:53:18   \n",
       "4       3008       1657         5589  2016-08-13 08:35:59   \n",
       "\n",
       "        tweetcreatedts  retweetcount  \\\n",
       "0  2021-04-22 07:50:08             0   \n",
       "1  2021-04-21 21:00:55             3   \n",
       "2  2021-04-21 19:38:17             0   \n",
       "3  2021-04-21 13:54:13             0   \n",
       "4  2021-04-21 10:05:18             0   \n",
       "\n",
       "                                                text  \\\n",
       "0  @supermintendo Unplugging yourself from social...   \n",
       "1  Politics are a chronic medical conditions that...   \n",
       "2  On the topic of unplugging from social media, ...   \n",
       "3  Feel like unplugging 🔌 from social media today...   \n",
       "4  We are all collectively tired.\\n\\nGrieving our...   \n",
       "\n",
       "                                            hashtags  \n",
       "0                                                 []  \n",
       "1                                                 []  \n",
       "2  [{'text': 'notifications', 'indices': [137, 15...  \n",
       "3                                                 []  \n",
       "4                                                 []  "
      ]
     },
     "execution_count": 17,
     "metadata": {},
     "output_type": "execute_result"
    }
   ],
   "source": [
    "df_cleaned.head()"
   ]
  },
  {
   "cell_type": "code",
   "execution_count": 18,
   "metadata": {},
   "outputs": [],
   "source": [
    "import re\n",
    "cleaned_text = df_cleaned['text'].apply(lambda x: re.split('https:\\/\\/.*', str(x))[0])"
   ]
  },
  {
   "cell_type": "code",
   "execution_count": 19,
   "metadata": {},
   "outputs": [
    {
     "data": {
      "text/plain": [
       "0       @supermintendo Unplugging yourself from social...\n",
       "1       Politics are a chronic medical conditions that...\n",
       "2       On the topic of unplugging from social media, ...\n",
       "3       Feel like unplugging 🔌 from social media today...\n",
       "4       We are all collectively tired.\\n\\nGrieving our...\n",
       "                              ...                        \n",
       "3807    Another day, another #massshooting.\\nIt's pret...\n",
       "3808    Each day I scroll thru social media I start to...\n",
       "3809    It’s crazy cause i used to wake up and scroll ...\n",
       "3810    We’re really going to be the first generation ...\n",
       "3811    Many supporters of a banned outfit had taken t...\n",
       "Name: text, Length: 3812, dtype: object"
      ]
     },
     "execution_count": 19,
     "metadata": {},
     "output_type": "execute_result"
    }
   ],
   "source": [
    "cleaned_text"
   ]
  },
  {
   "cell_type": "code",
   "execution_count": 20,
   "metadata": {},
   "outputs": [
    {
     "name": "stderr",
     "output_type": "stream",
     "text": [
      "<ipython-input-20-d6739819d945>:1: FutureWarning: The signature of `Series.to_csv` was aligned to that of `DataFrame.to_csv`, and argument 'header' will change its default value from False to True: please pass an explicit value to suppress this warning.\n",
      "  cleaned_text.to_csv( \"tweets.csv\")\n"
     ]
    }
   ],
   "source": [
    "cleaned_text.to_csv( \"tweets.csv\")\n",
    "df_cleaned.to_csv(\"merged_tweets_all_data.csv\")"
   ]
  },
  {
   "cell_type": "code",
   "execution_count": null,
   "metadata": {},
   "outputs": [],
   "source": []
  },
  {
   "cell_type": "code",
   "execution_count": 21,
   "metadata": {},
   "outputs": [
    {
     "data": {
      "text/plain": [
       "['C:\\\\Users\\\\bhiha\\\\Documents\\\\QuickAccess\\\\CMU\\\\Research\\\\Unplugging/data\\\\20210422_111955_unplugging_social_media_noTweets=49.csv',\n",
       " 'C:\\\\Users\\\\bhiha\\\\Documents\\\\QuickAccess\\\\CMU\\\\Research\\\\Unplugging/data\\\\20210422_112051_digital_detox_social_media_noTweets=35.csv',\n",
       " 'C:\\\\Users\\\\bhiha\\\\Documents\\\\QuickAccess\\\\CMU\\\\Research\\\\Unplugging/data\\\\20210422_112230_mental_health_social_media_noTweets=1000.csv',\n",
       " 'C:\\\\Users\\\\bhiha\\\\Documents\\\\QuickAccess\\\\CMU\\\\Research\\\\Unplugging/data\\\\20210422_112722_social_media_fast_noTweets=1000.csv',\n",
       " 'C:\\\\Users\\\\bhiha\\\\Documents\\\\QuickAccess\\\\CMU\\\\Research\\\\Unplugging/data\\\\20210422_112913_social_media_sabbath_noTweets=7.csv',\n",
       " 'C:\\\\Users\\\\bhiha\\\\Documents\\\\QuickAccess\\\\CMU\\\\Research\\\\Unplugging/data\\\\20210422_115341_digital_detox_noTweets=439.csv',\n",
       " 'C:\\\\Users\\\\bhiha\\\\Documents\\\\QuickAccess\\\\CMU\\\\Research\\\\Unplugging/data\\\\20210422_115628_screen_time_social_media_noTweets=580.csv',\n",
       " 'C:\\\\Users\\\\bhiha\\\\Documents\\\\QuickAccess\\\\CMU\\\\Research\\\\Unplugging/data\\\\20210422_115807_time_off_social_media_noTweets=1000.csv',\n",
       " 'C:\\\\Users\\\\bhiha\\\\Documents\\\\QuickAccess\\\\CMU\\\\Research\\\\Unplugging/data\\\\20210422_121323_break_from_social_media_noTweets=1000.csv',\n",
       " 'C:\\\\Users\\\\bhiha\\\\Documents\\\\QuickAccess\\\\CMU\\\\Research\\\\Unplugging/data\\\\20210422_130507_social_media_addiction_noTweets=1000.csv',\n",
       " 'C:\\\\Users\\\\bhiha\\\\Documents\\\\QuickAccess\\\\CMU\\\\Research\\\\Unplugging/data\\\\20210422_130734_phone_addiction_noTweets=983.csv',\n",
       " 'C:\\\\Users\\\\bhiha\\\\Documents\\\\QuickAccess\\\\CMU\\\\Research\\\\Unplugging/data\\\\20210422_132022_disconnect_social_media_noTweets=538.csv',\n",
       " 'C:\\\\Users\\\\bhiha\\\\Documents\\\\QuickAccess\\\\CMU\\\\Research\\\\Unplugging/data\\\\20210422_132343_social_media_break_noTweets=1000.csv',\n",
       " 'C:\\\\Users\\\\bhiha\\\\Documents\\\\QuickAccess\\\\CMU\\\\Research\\\\Unplugging/data\\\\20210422_132748_social_media_attachment_noTweets=54.csv',\n",
       " 'C:\\\\Users\\\\bhiha\\\\Documents\\\\QuickAccess\\\\CMU\\\\Research\\\\Unplugging/data\\\\20210422_132916_attention_economy_social_media_noTweets=18.csv',\n",
       " 'C:\\\\Users\\\\bhiha\\\\Documents\\\\QuickAccess\\\\CMU\\\\Research\\\\Unplugging/data\\\\20210422_133007_digital_detoxing_noTweets=15.csv',\n",
       " 'C:\\\\Users\\\\bhiha\\\\Documents\\\\QuickAccess\\\\CMU\\\\Research\\\\Unplugging/data\\\\20210422_133446_social_media_wellness_noTweets=335.csv',\n",
       " 'C:\\\\Users\\\\bhiha\\\\Documents\\\\QuickAccess\\\\CMU\\\\Research\\\\Unplugging/data\\\\20210422_133616_social_media_mindfulness_noTweets=291.csv',\n",
       " 'C:\\\\Users\\\\bhiha\\\\Documents\\\\QuickAccess\\\\CMU\\\\Research\\\\Unplugging/data\\\\20210422_133723_digital_minimalism_social_media_noTweets=15.csv',\n",
       " 'C:\\\\Users\\\\bhiha\\\\Documents\\\\QuickAccess\\\\CMU\\\\Research\\\\Unplugging/data\\\\20210422_134347_social_media_scroll_noTweets=1000.csv']"
      ]
     },
     "execution_count": 21,
     "metadata": {},
     "output_type": "execute_result"
    }
   ],
   "source": [
    "all_files"
   ]
  },
  {
   "cell_type": "code",
   "execution_count": null,
   "metadata": {},
   "outputs": [],
   "source": []
  }
 ],
 "metadata": {
  "kernelspec": {
   "display_name": "Python 3",
   "language": "python",
   "name": "python3"
  },
  "language_info": {
   "codemirror_mode": {
    "name": "ipython",
    "version": 3
   },
   "file_extension": ".py",
   "mimetype": "text/x-python",
   "name": "python",
   "nbconvert_exporter": "python",
   "pygments_lexer": "ipython3",
   "version": "3.8.2"
  }
 },
 "nbformat": 4,
 "nbformat_minor": 4
}
